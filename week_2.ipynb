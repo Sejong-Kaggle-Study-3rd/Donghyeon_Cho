{
  "nbformat": 4,
  "nbformat_minor": 0,
  "metadata": {
    "colab": {
      "name": "week 2.ipynb",
      "provenance": [],
      "authorship_tag": "ABX9TyM5U+N+yVoDPjFWpcorOXKQ",
      "include_colab_link": true
    },
    "kernelspec": {
      "name": "python3",
      "display_name": "Python 3"
    }
  },
  "cells": [
    {
      "cell_type": "markdown",
      "metadata": {
        "id": "view-in-github",
        "colab_type": "text"
      },
      "source": [
        "<a href=\"https://colab.research.google.com/github/hyeon9698/Donghyeon_Cho/blob/main/week_2.ipynb\" target=\"_parent\"><img src=\"https://colab.research.google.com/assets/colab-badge.svg\" alt=\"Open In Colab\"/></a>"
      ]
    },
    {
      "cell_type": "code",
      "metadata": {
        "id": "q7JkWc1dtGoc"
      },
      "source": [
        ""
      ],
      "execution_count": null,
      "outputs": []
    },
    {
      "cell_type": "code",
      "metadata": {
        "id": "e5HdLQDbtL3c"
      },
      "source": [
        ""
      ],
      "execution_count": null,
      "outputs": []
    },
    {
      "cell_type": "markdown",
      "metadata": {
        "id": "cAopYT8VtJXT"
      },
      "source": [
        "# week 2\r\n",
        "\r\n",
        "# 데이터 전처리\r\n",
        "\r\n",
        "### 데이터 전처리 정의\r\n",
        "\r\n",
        "- 데이터의 품질을 올리는 과정\r\n",
        "- 데이터의 품질은 데이터 분석의 90%를 좌우한다.\r\n",
        "\r\n",
        "### 데이터 전처리 과정\r\n",
        "\r\n",
        "- 데이터 실수화: 컴퓨터가 이해할 수 있는 값으로의 변환\r\n",
        "- 불완전한 데이터 제거: NULL, NA, NAN 값의 제거\r\n",
        "- 잡음 섞인 데이터 제거\r\n",
        "    - 가격 데이터에 있는 (-) 값 제거\r\n",
        "    - 연령 데이터중 과도하게 큰 값 제거 or 소수점 제거\r\n",
        "        - ex) 나이 값으로 200, 300 등의 값이 존재하는 경우\r\n",
        "- 모순된 데이터 제거: 남성 데이터 중 주민번호가 '2'로 시작하는 경우\r\n",
        "- 불균형 데이터 해결\r\n",
        "    - 과소표집(undersampling), 과대표집(oversampling)\r\n",
        "\r\n",
        "### 데이터 전처리의 주요 기법\r\n",
        "\r\n",
        "1. 데이터 실수화 (Data Vectorization)\r\n",
        "    - 범주형 자료, 텍스트 자료, 이미지 자료 등을 실수로 구성된 형태로 전환하는 것\r\n",
        "    - 2차원 자료의 예시\r\n",
        "        - [n_sample, n_features]\r\n",
        "        - 2차원 자료는 행렬 혹은 2차원 텐서라 불림\r\n",
        "    - 자료의 유형\r\n",
        "        - 연속형 자료\r\n",
        "        - 범주형 자료\r\n",
        "            - One-hot encoding을 이용한 데이터 실수화\r\n",
        "        - 텍스트 자료\r\n",
        "2. 데이터 정제 (Data Cleaning)\r\n",
        "    - 없는 데이터는 채우고, 잡음 데이터는 제거하고, 모순 데이터를 올바른 데이터로 교정하는 것\r\n",
        "3. 데이터 통합 (Data Integration)\r\n",
        "    - 여러 개의 데이터 파일을 하나로 합치는 과정\r\n",
        "4. 데이터 축소 (Data Reduction)\r\n",
        "    - 데이터가 과도하게 큰 경우, 분석 및 학습에 시간이 오래 걸리고 비효율적이기 떄문에 데이터의 수를 줄이거나 (sampling), 데이터 차원을 축소하는 작업\r\n",
        "5. 데이터 변환 (Data Transformation)\r\n",
        "    - 데이터를 정규화 하거나, 로그를 씌우거나, 평균값을 계산하여 사용하거나, 사람 나이 등을 10대, 20대, 30대 등으로 구간 화 하는 작업\r\n",
        "6. 데이터 균형 (Data Balancing)\r\n",
        "    - 특정 클래스의 관측치가 다른 클래스에 비해 매우 낮을 경우 샘플링을 통해 비율을 맞추는 작업\r\n",
        "7."
      ]
    },
    {
      "cell_type": "code",
      "metadata": {
        "id": "q4Ae6mJ5tKNJ"
      },
      "source": [
        ""
      ],
      "execution_count": null,
      "outputs": []
    }
  ]
}