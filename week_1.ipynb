{
  "nbformat": 4,
  "nbformat_minor": 0,
  "metadata": {
    "colab": {
      "name": "week 1.ipynb",
      "provenance": [],
      "authorship_tag": "ABX9TyOmi0PygkBELZKkEUfG+wmv",
      "include_colab_link": true
    },
    "kernelspec": {
      "name": "python3",
      "display_name": "Python 3"
    }
  },
  "cells": [
    {
      "cell_type": "markdown",
      "metadata": {
        "id": "view-in-github",
        "colab_type": "text"
      },
      "source": [
        "<a href=\"https://colab.research.google.com/github/hyeon9698/Donghyeon_Cho/blob/main/week_1.ipynb\" target=\"_parent\"><img src=\"https://colab.research.google.com/assets/colab-badge.svg\" alt=\"Open In Colab\"/></a>"
      ]
    },
    {
      "cell_type": "markdown",
      "metadata": {
        "id": "eKGFyY0otuWP"
      },
      "source": [
        "# week 1\r\n",
        "\r\n",
        "# 인공지능 개요\r\n",
        "\r\n",
        "## AI/ML/DL 이란 무엇인가\r\n",
        "\r\n",
        "![image](https://user-images.githubusercontent.com/41141851/110888805-4c7f1d80-8330-11eb-8ef1-8fa5a783b0b3.png)\r\n",
        "\r\n",
        "AI → ML → DL 순으로 발전해나감\r\n",
        "\r\n",
        "AI⊃ML⊃DL\r\n",
        "\r\n",
        "1. What is AI/ML/DL?\r\n",
        "    - 초기/인공지능: 탐색과 추론의 시대\r\n",
        "    - 머신러닝: 기계가 스스로 학습한다\r\n",
        "    - 딥러닝: 인간뇌의 정보처리 방식을 흉내내다\r\n",
        "2. What is Intelligence?\r\n",
        "    - 인간 뿐 아니라 동물을 포함해, 생명체들은 다양한 의사 결정을 필요\r\n",
        "    - 즉, 주어진 환경을 인식학고 추론/결정하여 행동하는 것을 의미\r\n",
        "3. What is Artificial Intelligence(AI)?\r\n",
        "    - 기계를 인간 행동의 지식에서와 같이 행동하게 만드는 것\r\n",
        "    - 머신이 사람과 유사한 지능을 가지도록 인간의 학습능력, 추론능력, 지각능력, 자연어 이해 능력 등을 컴퓨터 프로그램으로 실현하는 기술이다.\r\n",
        "\r\n",
        "## 인공지능의 역사와 미래\r\n",
        "\r\n",
        "1. first AI winter(1970~1980) (연구비가 줄고 사람들의 기대가 떨어지는 시기)\r\n",
        "    - 문제: Perceptron 이론의 한계\r\n",
        "        - XOR 문제를 풀 수 없음\r\n",
        "    - 해결: 전문가 시스템 기호주의(Symbolism)\r\n",
        "        - 추론 엔진은 베이즈(Bayes) 기반 확률적 방법\r\n",
        "        - 퍼지 이론(Fuzzy theory)을 활용\r\n",
        "2. second AI winter(1990)\r\n",
        "    - 문제: 전문가 시스템의 실패\r\n",
        "        - 성능 대비 높은 가격\r\n",
        "        - 높은 유지보수 비용\r\n",
        "        - 업데이트 어려움\r\n",
        "    - 해결: 인공신경망 기반의 딥러닝 (연결주의)\r\n",
        "        - 데이터: 인터넷, SNS 발달로 여러 곳에서 데이터를 만들었음\r\n",
        "        - GPU: 빠른 연산이 가능, 긴 학습 시간 해결\r\n",
        "        - 인공신경망을 통한 기술의 발전, Overfitting은 Drop-out으로 해결\r\n",
        "3. 미래\r\n",
        "    - Artificial Narrow Intelligence → Artificial General Intelligence → Artificial Super Intelligence\r\n",
        "    - 인공지능과 인간의 두뇌가 하나가 될 것이다.\r\n",
        "    - 인공지능이 인간을 통제하지 못하도록 윤리지침이 필요\r\n",
        "        - 아실로마 AI 원칙\r\n",
        "            - 살상 가능한 무기는 지양해야한다\r\n",
        "            - 목적 없는 지능을 개발하는 것이 아니라 인간에게 유용하고 이롭고 혜택을 주는 지능을 개발해야 한다.\r\n",
        "        - 유럽 결의안\r\n",
        "            - AI 로봇의 법적 지위를 '전자 인간'으로 규정\r\n",
        "            - 로봇은 인간에 도움을 줘야한다\r\n",
        "            - 비상상황에 대비해 언제든 로봇의 움직임을 멈출 수 있는 킬 스위치를 달아야 한다.\r\n"
      ]
    }
  ]
}