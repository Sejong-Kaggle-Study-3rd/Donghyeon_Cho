{
  "nbformat": 4,
  "nbformat_minor": 0,
  "metadata": {
    "kernelspec": {
      "display_name": "Python 3",
      "language": "python",
      "name": "python3"
    },
    "language_info": {
      "codemirror_mode": {
        "name": "ipython",
        "version": 3
      },
      "file_extension": ".py",
      "mimetype": "text/x-python",
      "name": "python",
      "nbconvert_exporter": "python",
      "pygments_lexer": "ipython3",
      "version": "3.6.9"
    },
    "colab": {
      "name": "07장_비선형 SVM.ipynb",
      "provenance": [],
      "include_colab_link": true
    },
    "widgets": {
      "application/vnd.jupyter.widget-state+json": {
        "0dee833e85e54f14806d5814030af8a2": {
          "model_module": "@jupyter-widgets/controls",
          "model_name": "VBoxModel",
          "state": {
            "_view_name": "VBoxView",
            "_dom_classes": [
              "widget-interact"
            ],
            "_model_name": "VBoxModel",
            "_view_module": "@jupyter-widgets/controls",
            "_model_module_version": "1.5.0",
            "_view_count": null,
            "_view_module_version": "1.5.0",
            "box_style": "",
            "layout": "IPY_MODEL_865f0e1d395f4e3fb5408a83243f7a8b",
            "_model_module": "@jupyter-widgets/controls",
            "children": [
              "IPY_MODEL_2f3e8dccbf534d7182cc3d3aaed8e99f",
              "IPY_MODEL_840c58c4a1a448e0b1a2fb8ad2ba506a",
              "IPY_MODEL_d6c63b338b4343aca678c0f564fa536d"
            ]
          }
        },
        "865f0e1d395f4e3fb5408a83243f7a8b": {
          "model_module": "@jupyter-widgets/base",
          "model_name": "LayoutModel",
          "state": {
            "_view_name": "LayoutView",
            "grid_template_rows": null,
            "right": null,
            "justify_content": null,
            "_view_module": "@jupyter-widgets/base",
            "overflow": null,
            "_model_module_version": "1.2.0",
            "_view_count": null,
            "flex_flow": null,
            "width": null,
            "min_width": null,
            "border": null,
            "align_items": null,
            "bottom": null,
            "_model_module": "@jupyter-widgets/base",
            "top": null,
            "grid_column": null,
            "overflow_y": null,
            "overflow_x": null,
            "grid_auto_flow": null,
            "grid_area": null,
            "grid_template_columns": null,
            "flex": null,
            "_model_name": "LayoutModel",
            "justify_items": null,
            "grid_row": null,
            "max_height": null,
            "align_content": null,
            "visibility": null,
            "align_self": null,
            "height": null,
            "min_height": null,
            "padding": null,
            "grid_auto_rows": null,
            "grid_gap": null,
            "max_width": null,
            "order": null,
            "_view_module_version": "1.2.0",
            "grid_template_areas": null,
            "object_position": null,
            "object_fit": null,
            "grid_auto_columns": null,
            "margin": null,
            "display": null,
            "left": null
          }
        },
        "2f3e8dccbf534d7182cc3d3aaed8e99f": {
          "model_module": "@jupyter-widgets/controls",
          "model_name": "DropdownModel",
          "state": {
            "_options_labels": [
              "-90",
              "90"
            ],
            "_view_name": "DropdownView",
            "style": "IPY_MODEL_e3864a8f75324f13b07b1586ac04c20e",
            "_dom_classes": [],
            "description": "elev",
            "_model_name": "DropdownModel",
            "index": 1,
            "_view_module": "@jupyter-widgets/controls",
            "_model_module_version": "1.5.0",
            "_view_count": null,
            "disabled": false,
            "_view_module_version": "1.5.0",
            "description_tooltip": null,
            "_model_module": "@jupyter-widgets/controls",
            "layout": "IPY_MODEL_1a91bac1784b49819f9fb0d28b14c942"
          }
        },
        "840c58c4a1a448e0b1a2fb8ad2ba506a": {
          "model_module": "@jupyter-widgets/controls",
          "model_name": "IntSliderModel",
          "state": {
            "_view_name": "IntSliderView",
            "style": "IPY_MODEL_e855e69f4c564edf968d635f4937fb31",
            "_dom_classes": [],
            "description": "azim",
            "step": 1,
            "_model_name": "IntSliderModel",
            "orientation": "horizontal",
            "max": 90,
            "_view_module": "@jupyter-widgets/controls",
            "_model_module_version": "1.5.0",
            "value": -30,
            "_view_count": null,
            "disabled": false,
            "_view_module_version": "1.5.0",
            "min": -30,
            "continuous_update": true,
            "readout_format": "d",
            "description_tooltip": null,
            "readout": true,
            "_model_module": "@jupyter-widgets/controls",
            "layout": "IPY_MODEL_2e39386b5355427d892c670da367a072"
          }
        },
        "d6c63b338b4343aca678c0f564fa536d": {
          "model_module": "@jupyter-widgets/output",
          "model_name": "OutputModel",
          "state": {
            "_view_name": "OutputView",
            "msg_id": "",
            "_dom_classes": [],
            "_model_name": "OutputModel",
            "outputs": [
              {
                "output_type": "display_data",
                "metadata": {
                  "tags": [],
                  "needs_background": "light"
                },
                "image/png": "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\n",
                "text/plain": "<Figure size 432x288 with 1 Axes>"
              }
            ],
            "_view_module": "@jupyter-widgets/output",
            "_model_module_version": "1.0.0",
            "_view_count": null,
            "_view_module_version": "1.0.0",
            "layout": "IPY_MODEL_a81fceadc447411eb95abd1bbb9a55e6",
            "_model_module": "@jupyter-widgets/output"
          }
        },
        "e3864a8f75324f13b07b1586ac04c20e": {
          "model_module": "@jupyter-widgets/controls",
          "model_name": "DescriptionStyleModel",
          "state": {
            "_view_name": "StyleView",
            "_model_name": "DescriptionStyleModel",
            "description_width": "",
            "_view_module": "@jupyter-widgets/base",
            "_model_module_version": "1.5.0",
            "_view_count": null,
            "_view_module_version": "1.2.0",
            "_model_module": "@jupyter-widgets/controls"
          }
        },
        "1a91bac1784b49819f9fb0d28b14c942": {
          "model_module": "@jupyter-widgets/base",
          "model_name": "LayoutModel",
          "state": {
            "_view_name": "LayoutView",
            "grid_template_rows": null,
            "right": null,
            "justify_content": null,
            "_view_module": "@jupyter-widgets/base",
            "overflow": null,
            "_model_module_version": "1.2.0",
            "_view_count": null,
            "flex_flow": null,
            "width": null,
            "min_width": null,
            "border": null,
            "align_items": null,
            "bottom": null,
            "_model_module": "@jupyter-widgets/base",
            "top": null,
            "grid_column": null,
            "overflow_y": null,
            "overflow_x": null,
            "grid_auto_flow": null,
            "grid_area": null,
            "grid_template_columns": null,
            "flex": null,
            "_model_name": "LayoutModel",
            "justify_items": null,
            "grid_row": null,
            "max_height": null,
            "align_content": null,
            "visibility": null,
            "align_self": null,
            "height": null,
            "min_height": null,
            "padding": null,
            "grid_auto_rows": null,
            "grid_gap": null,
            "max_width": null,
            "order": null,
            "_view_module_version": "1.2.0",
            "grid_template_areas": null,
            "object_position": null,
            "object_fit": null,
            "grid_auto_columns": null,
            "margin": null,
            "display": null,
            "left": null
          }
        },
        "e855e69f4c564edf968d635f4937fb31": {
          "model_module": "@jupyter-widgets/controls",
          "model_name": "SliderStyleModel",
          "state": {
            "_view_name": "StyleView",
            "handle_color": null,
            "_model_name": "SliderStyleModel",
            "description_width": "",
            "_view_module": "@jupyter-widgets/base",
            "_model_module_version": "1.5.0",
            "_view_count": null,
            "_view_module_version": "1.2.0",
            "_model_module": "@jupyter-widgets/controls"
          }
        },
        "2e39386b5355427d892c670da367a072": {
          "model_module": "@jupyter-widgets/base",
          "model_name": "LayoutModel",
          "state": {
            "_view_name": "LayoutView",
            "grid_template_rows": null,
            "right": null,
            "justify_content": null,
            "_view_module": "@jupyter-widgets/base",
            "overflow": null,
            "_model_module_version": "1.2.0",
            "_view_count": null,
            "flex_flow": null,
            "width": null,
            "min_width": null,
            "border": null,
            "align_items": null,
            "bottom": null,
            "_model_module": "@jupyter-widgets/base",
            "top": null,
            "grid_column": null,
            "overflow_y": null,
            "overflow_x": null,
            "grid_auto_flow": null,
            "grid_area": null,
            "grid_template_columns": null,
            "flex": null,
            "_model_name": "LayoutModel",
            "justify_items": null,
            "grid_row": null,
            "max_height": null,
            "align_content": null,
            "visibility": null,
            "align_self": null,
            "height": null,
            "min_height": null,
            "padding": null,
            "grid_auto_rows": null,
            "grid_gap": null,
            "max_width": null,
            "order": null,
            "_view_module_version": "1.2.0",
            "grid_template_areas": null,
            "object_position": null,
            "object_fit": null,
            "grid_auto_columns": null,
            "margin": null,
            "display": null,
            "left": null
          }
        },
        "a81fceadc447411eb95abd1bbb9a55e6": {
          "model_module": "@jupyter-widgets/base",
          "model_name": "LayoutModel",
          "state": {
            "_view_name": "LayoutView",
            "grid_template_rows": null,
            "right": null,
            "justify_content": null,
            "_view_module": "@jupyter-widgets/base",
            "overflow": null,
            "_model_module_version": "1.2.0",
            "_view_count": null,
            "flex_flow": null,
            "width": null,
            "min_width": null,
            "border": null,
            "align_items": null,
            "bottom": null,
            "_model_module": "@jupyter-widgets/base",
            "top": null,
            "grid_column": null,
            "overflow_y": null,
            "overflow_x": null,
            "grid_auto_flow": null,
            "grid_area": null,
            "grid_template_columns": null,
            "flex": null,
            "_model_name": "LayoutModel",
            "justify_items": null,
            "grid_row": null,
            "max_height": null,
            "align_content": null,
            "visibility": null,
            "align_self": null,
            "height": null,
            "min_height": null,
            "padding": null,
            "grid_auto_rows": null,
            "grid_gap": null,
            "max_width": null,
            "order": null,
            "_view_module_version": "1.2.0",
            "grid_template_areas": null,
            "object_position": null,
            "object_fit": null,
            "grid_auto_columns": null,
            "margin": null,
            "display": null,
            "left": null
          }
        }
      }
    }
  },
  "cells": [
    {
      "cell_type": "markdown",
      "metadata": {
        "id": "view-in-github",
        "colab_type": "text"
      },
      "source": [
        "<a href=\"https://colab.research.google.com/github/hyeon9698/Donghyeon_Cho/blob/main/week_7/07%EC%9E%A5_%EB%B9%84%EC%84%A0%ED%98%95_SVM.ipynb\" target=\"_parent\"><img src=\"https://colab.research.google.com/assets/colab-badge.svg\" alt=\"Open In Colab\"/></a>"
      ]
    },
    {
      "cell_type": "markdown",
      "metadata": {
        "id": "lGypXS7uqFZp"
      },
      "source": [
        "## 7장 Support Vector machine\n",
        "\n",
        "### 비선형 SVM"
      ]
    },
    {
      "cell_type": "code",
      "metadata": {
        "scrolled": true,
        "id": "3rtPjsR-p38b"
      },
      "source": [
        "##5장에서 사용한 iris data 사용\n",
        "\n",
        "import seaborn as sns\n",
        "iris=sns.load_dataset('iris') # iris data 불러오기\n",
        "X=iris.drop('species',axis=1) # 특성변수만으로 구성된 X data Frame 생성\n",
        "y=iris['species']             # 분류의 목적 변수만으로 구성된 y data Frame생성\n",
        "\n",
        "from sklearn.preprocessing import LabelEncoder #범주형 변수 숫자로 치환하는 함수 호출\n",
        "classle=LabelEncoder()\n",
        "y=classle.fit_transform(iris['species'].values)#범주형 변수 숫자로 치환\n",
        "\n",
        "from sklearn.model_selection import train_test_split #train set과 test set으로 데이터 나누기 위한 함수 호출\n",
        "X_train,X_test,y_train,y_test=train_test_split(X,y, test_size=0.3, random_state=123, stratify=y)\n",
        "\n"
      ],
      "execution_count": 1,
      "outputs": []
    },
    {
      "cell_type": "code",
      "metadata": {
        "id": "4B1CQZ-Cp384",
        "colab": {
          "base_uri": "https://localhost:8080/",
          "height": 283
        },
        "outputId": "ab7ff0ac-668c-4fb8-b0fc-c14df376a5a4"
      },
      "source": [
        "###############Kernel SVM의 이해 예제###########\n",
        "\n",
        "#평면상의 자료의 표현\n",
        "%matplotlib inline    \n",
        "import matplotlib.pyplot as plt\n",
        "from sklearn.datasets import make_circles\n",
        "X, y = make_circles(n_samples=100,noise=0.1,factor=0.1)\n",
        "plt.scatter(X[:,0],X[:,1],c=y,s=50)"
      ],
      "execution_count": 2,
      "outputs": [
        {
          "output_type": "execute_result",
          "data": {
            "text/plain": [
              "<matplotlib.collections.PathCollection at 0x7f8b34f82790>"
            ]
          },
          "metadata": {
            "tags": []
          },
          "execution_count": 2
        },
        {
          "output_type": "display_data",
          "data": {
            "image/png": "[encoded data removed]",
            "text/plain": [
              "<Figure size 432x288 with 1 Axes>"
            ]
          },
          "metadata": {
            "tags": [],
            "needs_background": "light"
          }
        }
      ]
    },
    {
      "cell_type": "code",
      "metadata": {
        "id": "Hjs-7Fz_p388",
        "colab": {
          "base_uri": "https://localhost:8080/",
          "height": 312,
          "referenced_widgets": [
            "0dee833e85e54f14806d5814030af8a2",
            "865f0e1d395f4e3fb5408a83243f7a8b",
            "2f3e8dccbf534d7182cc3d3aaed8e99f",
            "840c58c4a1a448e0b1a2fb8ad2ba506a",
            "d6c63b338b4343aca678c0f564fa536d",
            "e3864a8f75324f13b07b1586ac04c20e",
            "1a91bac1784b49819f9fb0d28b14c942",
            "e855e69f4c564edf968d635f4937fb31",
            "2e39386b5355427d892c670da367a072",
            "a81fceadc447411eb95abd1bbb9a55e6"
          ]
        },
        "outputId": "d6157b4d-3771-448f-91f5-7732e87eb692"
      },
      "source": [
        "#Kernel SVM의 이해 예제\n",
        "#z축을 도입하여 자료를 표현\n",
        "import numpy as np\n",
        "r = np.exp(-(X ** 2).sum(1))\n",
        "from ipywidgets import interact, fixed\n",
        "from mpl_toolkits import mplot3d\n",
        "def plot_3D(elev=30, azim=30, X=X, y=y):\n",
        "    ax = plt.subplot(projection='3d')\n",
        "    ax.scatter3D(X[:, 0], X[:, 1], r, c=y, s=50, cmap='autumn')\n",
        "    ax.view_init(azim=50, elev=30)\n",
        "    ax.set_xlabel('x')\n",
        "    ax.set_ylabel('y')\n",
        "    ax.set_zlabel('z')\n",
        "interact(plot_3D, elev=[-90, 90], azip=(-180, 180),X=fixed(X), y=fixed(y));"
      ],
      "execution_count": 3,
      "outputs": [
        {
          "output_type": "display_data",
          "data": {
            "application/vnd.jupyter.widget-view+json": {
              "model_id": "0dee833e85e54f14806d5814030af8a2",
              "version_minor": 0,
              "version_major": 2
            },
            "text/plain": [
              "interactive(children=(Dropdown(description='elev', options=(-90, 90), value=-90), IntSlider(value=30, descript…"
            ]
          },
          "metadata": {
            "tags": []
          }
        }
      ]
    },
    {
      "cell_type": "code",
      "metadata": {
        "id": "y7LPh-Zgp38_"
      },
      "source": [
        "##############Kernel SVM 예제##########################\n",
        "from sklearn.svm import SVC #SVM함수의 호출\n",
        "ksvm=SVC(kernel='rbf',C=1.0,gamma=0.2,random_state=42)\n",
        "ksvm.fit(X_train,y_train)\n",
        "y_train_pred=ksvm.predict(X_train) # kernel SVM을 이용한 train set의 y 예측치 구하기\n",
        "y_test_pred=ksvm.predict(X_test) # kernel SVM을 이용한 #test set의 y예측치 구하기"
      ],
      "execution_count": 4,
      "outputs": []
    },
    {
      "cell_type": "code",
      "metadata": {
        "id": "wwcoLf3bp39B",
        "colab": {
          "base_uri": "https://localhost:8080/"
        },
        "outputId": "6ddcec1a-643f-4321-b1c2-435be5cbc38d"
      },
      "source": [
        "from sklearn import metrics\n",
        "print(metrics.accuracy_score(y_train,y_train_pred))  # train set의 accuracy ratio\n",
        "print(metrics.accuracy_score(y_test,y_test_pred))   # test set의 accuracy ratio"
      ],
      "execution_count": 5,
      "outputs": [
        {
          "output_type": "stream",
          "text": [
            "0.9904761904761905\n",
            "0.9555555555555556\n"
          ],
          "name": "stdout"
        }
      ]
    },
    {
      "cell_type": "code",
      "metadata": {
        "id": "A-V7Gqeyp39H",
        "colab": {
          "base_uri": "https://localhost:8080/"
        },
        "outputId": "f12ade7d-f06f-4930-9aff-1e1de5d449d5"
      },
      "source": [
        "metrics.confusion_matrix(y_test,y_test_pred)   #confusion_matrix"
      ],
      "execution_count": 6,
      "outputs": [
        {
          "output_type": "execute_result",
          "data": {
            "text/plain": [
              "array([[15,  0,  0],\n",
              "       [ 0, 13,  2],\n",
              "       [ 0,  0, 15]])"
            ]
          },
          "metadata": {
            "tags": []
          },
          "execution_count": 6
        }
      ]
    },
    {
      "cell_type": "code",
      "metadata": {
        "id": "dnkbB81NrlH-",
        "colab": {
          "base_uri": "https://localhost:8080/"
        },
        "outputId": "2da1d91a-396a-4e14-f127-40a42876a01a"
      },
      "source": [
        "print(ksvm.n_support_)"
      ],
      "execution_count": 7,
      "outputs": [
        {
          "output_type": "stream",
          "text": [
            "[ 5 14 15]\n"
          ],
          "name": "stdout"
        }
      ]
    },
    {
      "cell_type": "code",
      "metadata": {
        "id": "9mmnNNsvr3FE"
      },
      "source": [
        ""
      ],
      "execution_count": null,
      "outputs": []
    }
  ]
}