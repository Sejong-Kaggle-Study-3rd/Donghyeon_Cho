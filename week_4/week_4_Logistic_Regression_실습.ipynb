{
  "nbformat": 4,
  "nbformat_minor": 0,
  "metadata": {
    "colab": {
      "name": "week_4_Logistic_Regression_실습.ipynb",
      "provenance": [],
      "collapsed_sections": [],
      "authorship_tag": "ABX9TyPMlqqZjrjPcEmb6n5QPch6",
      "include_colab_link": true
    },
    "kernelspec": {
      "name": "python3",
      "display_name": "Python 3"
    },
    "language_info": {
      "name": "python"
    },
    "accelerator": "GPU"
  },
  "cells": [
    {
      "cell_type": "markdown",
      "metadata": {
        "id": "view-in-github",
        "colab_type": "text"
      },
      "source": [
        "<a href=\"https://colab.research.google.com/github/hyeon9698/Donghyeon_Cho/blob/main/week_4/week_4_Logistic_Regression_%EC%8B%A4%EC%8A%B5.ipynb\" target=\"_parent\"><img src=\"https://colab.research.google.com/assets/colab-badge.svg\" alt=\"Open In Colab\"/></a>"
      ]
    },
    {
      "cell_type": "markdown",
      "metadata": {
        "id": "URTiEH2_Q3Qb"
      },
      "source": [
        "### 다중선형회귀(Multiple Linear Regression)\n",
        "- 수치형 설명변수(x)와 연속형 숫자로 이뤄진 종속변수(y) 간의 관계를 선형으로 가정하고 이를 가장 잘 표현할 수 있는 회귀계수(B)를 데이터로부터 추정하는 것\n",
        "\n",
        "### 정규화\n",
        "- variance를 감소시켜 일반화 성능을 높이는 기법\n",
        "- bias, variance 둘다 낮으면 좋음\n",
        "- 정규화 정도 C = 1/lambda\n",
        "\n",
        "### Bias-Variance Decomposition\n",
        "- 일반화(generalization) 성능을 높이는 정규화(Regularization), 앙상블(ensemble) 기법의 이론적 배경\n",
        "- 학습에 쓰지 않은 미래 데이터에 대한 오차의 기대값을 모델의 Bias와 ariance로 분해하자는 내용\n",
        "\n",
        "### 로지스틱 함수(Logistic function)\n",
        "- x값으로 어떤 값이든 받을 수가 있지만 출력 결과(y)는 항상 0에서 1사이 값이 됨\n",
        "- 시그모이드 함수라고 명명하기도 함"
      ]
    },
    {
      "cell_type": "code",
      "metadata": {
        "id": "LLvZ1wDNVanF",
        "colab": {
          "base_uri": "https://localhost:8080/"
        },
        "outputId": "1b95b502-8477-4d69-e927-c8c65acb7b0a"
      },
      "source": [
        "# 데이터 불러오기\n",
        "import seaborn as sns # seaborn을 불러오고 SNS로 축약\n",
        "iris = sns.load_dataset('iris')  # iris라는 변수명으로 Iris data를 download\n",
        "X = iris.drop('species', axis=1)\n",
        "y = iris['species']\n",
        "y"
      ],
      "execution_count": 1,
      "outputs": [
        {
          "output_type": "execute_result",
          "data": {
            "text/plain": [
              "0         setosa\n",
              "1         setosa\n",
              "2         setosa\n",
              "3         setosa\n",
              "4         setosa\n",
              "         ...    \n",
              "145    virginica\n",
              "146    virginica\n",
              "147    virginica\n",
              "148    virginica\n",
              "149    virginica\n",
              "Name: species, Length: 150, dtype: object"
            ]
          },
          "metadata": {
            "tags": []
          },
          "execution_count": 1
        }
      ]
    },
    {
      "cell_type": "code",
      "metadata": {
        "colab": {
          "base_uri": "https://localhost:8080/"
        },
        "id": "-C0XkU5Q2g4Q",
        "outputId": "1bf0406b-863c-4cdf-8af8-9c570c5d53be"
      },
      "source": [
        "from sklearn.preprocessing import LabelEncoder\n",
        "classle = LabelEncoder()\n",
        "y = classle.fit_transform(iris['species'].values)\n",
        "y"
      ],
      "execution_count": 2,
      "outputs": [
        {
          "output_type": "execute_result",
          "data": {
            "text/plain": [
              "array([0, 0, 0, 0, 0, 0, 0, 0, 0, 0, 0, 0, 0, 0, 0, 0, 0, 0, 0, 0, 0, 0,\n",
              "       0, 0, 0, 0, 0, 0, 0, 0, 0, 0, 0, 0, 0, 0, 0, 0, 0, 0, 0, 0, 0, 0,\n",
              "       0, 0, 0, 0, 0, 0, 1, 1, 1, 1, 1, 1, 1, 1, 1, 1, 1, 1, 1, 1, 1, 1,\n",
              "       1, 1, 1, 1, 1, 1, 1, 1, 1, 1, 1, 1, 1, 1, 1, 1, 1, 1, 1, 1, 1, 1,\n",
              "       1, 1, 1, 1, 1, 1, 1, 1, 1, 1, 1, 1, 2, 2, 2, 2, 2, 2, 2, 2, 2, 2,\n",
              "       2, 2, 2, 2, 2, 2, 2, 2, 2, 2, 2, 2, 2, 2, 2, 2, 2, 2, 2, 2, 2, 2,\n",
              "       2, 2, 2, 2, 2, 2, 2, 2, 2, 2, 2, 2, 2, 2, 2, 2, 2, 2])"
            ]
          },
          "metadata": {
            "tags": []
          },
          "execution_count": 2
        }
      ]
    },
    {
      "cell_type": "code",
      "metadata": {
        "id": "atbsxryI21xU"
      },
      "source": [
        "from sklearn.model_selection import train_test_split\n",
        "X_train, X_test, y_train, y_test = train_test_split(X, y, test_size=0.3, random_state=1, stratify=y)"
      ],
      "execution_count": 3,
      "outputs": []
    },
    {
      "cell_type": "code",
      "metadata": {
        "id": "aPHVkJV4211R"
      },
      "source": [
        "# 표준화\n",
        "from sklearn.preprocessing import StandardScaler\n",
        "sc = StandardScaler()\n",
        "sc.fit(X_train)\n",
        "X_train_std = sc.transform(X_train)\n",
        "X_test_std = sc.transform(X_test)"
      ],
      "execution_count": 4,
      "outputs": []
    },
    {
      "cell_type": "code",
      "metadata": {
        "id": "NK4OJEhI214a"
      },
      "source": [
        "from sklearn.linear_model import LogisticRegression\n",
        "Logit = LogisticRegression(C=200, random_state=11)\n",
        "l_1=Logit.fit(X_train_std, y_train)\n",
        "y_train_pred = Logit.predict(X_train_std)\n",
        "y_test_pred = Logit.predict(X_test_std)"
      ],
      "execution_count": 5,
      "outputs": []
    },
    {
      "cell_type": "code",
      "metadata": {
        "colab": {
          "base_uri": "https://localhost:8080/"
        },
        "id": "QvYh0iR6217x",
        "outputId": "85b3a098-7a54-49a7-96bc-e5efe828dd22"
      },
      "source": [
        "# Accuracy score\n",
        "from sklearn.metrics import accuracy_score\n",
        "print(accuracy_score(y_train, y_train_pred))\n",
        "print(accuracy_score(y_test, y_test_pred))"
      ],
      "execution_count": 6,
      "outputs": [
        {
          "output_type": "stream",
          "text": [
            "0.9809523809523809\n",
            "1.0\n"
          ],
          "name": "stdout"
        }
      ]
    },
    {
      "cell_type": "code",
      "metadata": {
        "colab": {
          "base_uri": "https://localhost:8080/"
        },
        "id": "Mm8UBjED21-6",
        "outputId": "ee298d92-bf28-4e39-8c1c-6dd4fb6f8ae1"
      },
      "source": [
        "# Confusion matrix\n",
        "from sklearn.metrics import confusion_matrix\n",
        "print(confusion_matrix(y_test, y_test_pred))"
      ],
      "execution_count": 8,
      "outputs": [
        {
          "output_type": "stream",
          "text": [
            "[[15  0  0]\n",
            " [ 0 15  0]\n",
            " [ 0  0 15]]\n"
          ],
          "name": "stdout"
        }
      ]
    },
    {
      "cell_type": "markdown",
      "metadata": {
        "id": "qDNCTcL122B2"
      },
      "source": [
        "# 로지스틱 회귀 실험\n",
        "- 데이터셋: 와인 데이터\n",
        "- 학습/시험 데이터: x_train/x_test(13개의 특성변수)\n",
        "- 학습/시험 데이터 라벨: y_train/y_test -> (1,2,3)로 이미 범주형으로 지정되어 있음\n",
        "- 다양한 규제강도에 따른 실험\n",
        "    - L1, L2 규제화\n",
        "    - C=1/lambda로 규제화\n",
        "    - 테스트 데이터의 라벨을 알 수 없을 경우, 학습데이터의 일부를 검증데이터(validation data)로 구성하여 데스트\n",
        "- 다양한 규제강도에 따른 초정계수 실험\n",
        "    - 규제강도가 클수록 추정된 계수들의 절대값이 작아짐\n",
        "    - L1 규제화의 경우 규제강도가 클수록 계수에 0이 많아짐. 즉, 계수에 대응하는 특성변수를 제거하는 역할을 담당함.\n"
      ]
    },
    {
      "cell_type": "code",
      "metadata": {
        "id": "ARiDVnbj22N3"
      },
      "source": [
        "import pandas as pd\n",
        "import numpy as np"
      ],
      "execution_count": 9,
      "outputs": []
    },
    {
      "cell_type": "code",
      "metadata": {
        "colab": {
          "base_uri": "https://localhost:8080/",
          "height": 250
        },
        "id": "SM1T752R22Q1",
        "outputId": "4ab921c1-d0a6-4daf-aae9-b071ca5400b8"
      },
      "source": [
        "# 데이터 불러오기. y값은 이미 범주형으로 되어있음.\n",
        "dat_wine=pd.read_csv('http://archive.ics.uci.edu/ml/machine-learning-databases/'\n",
        "                     'wine/wine.data',header=None)\n",
        "dat_wine.columns = ['class label', 'alchohol', 'malic acid', 'ash', \n",
        "                    'alcalinity of ash', 'magnesium', 'total phenols', \n",
        "                    'flavanoids', 'nonflavanoid phenols', \n",
        "                    'proanthocyanins', 'color intensity', 'hue', \n",
        "                    'OD208', 'proline']  # Column names\n",
        "print('class label:', np.unique(dat_wine['class label']))  # Class 출력\n",
        "dat_wine.head()"
      ],
      "execution_count": 11,
      "outputs": [
        {
          "output_type": "stream",
          "text": [
            "class label: [1 2 3]\n"
          ],
          "name": "stdout"
        },
        {
          "output_type": "execute_result",
          "data": {
            "text/html": [
              "<div>\n",
              "<style scoped>\n",
              "    .dataframe tbody tr th:only-of-type {\n",
              "        vertical-align: middle;\n",
              "    }\n",
              "\n",
              "    .dataframe tbody tr th {\n",
              "        vertical-align: top;\n",
              "    }\n",
              "\n",
              "    .dataframe thead th {\n",
              "        text-align: right;\n",
              "    }\n",
              "</style>\n",
              "<table border=\"1\" class=\"dataframe\">\n",
              "  <thead>\n",
              "    <tr style=\"text-align: right;\">\n",
              "      <th></th>\n",
              "      <th>class label</th>\n",
              "      <th>alchohol</th>\n",
              "      <th>malic acid</th>\n",
              "      <th>ash</th>\n",
              "      <th>alcalinity of ash</th>\n",
              "      <th>magnesium</th>\n",
              "      <th>total phenols</th>\n",
              "      <th>flavanoids</th>\n",
              "      <th>nonflavanoid phenols</th>\n",
              "      <th>proanthocyanins</th>\n",
              "      <th>color intensity</th>\n",
              "      <th>hue</th>\n",
              "      <th>OD208</th>\n",
              "      <th>proline</th>\n",
              "    </tr>\n",
              "  </thead>\n",
              "  <tbody>\n",
              "    <tr>\n",
              "      <th>0</th>\n",
              "      <td>1</td>\n",
              "      <td>14.23</td>\n",
              "      <td>1.71</td>\n",
              "      <td>2.43</td>\n",
              "      <td>15.6</td>\n",
              "      <td>127</td>\n",
              "      <td>2.80</td>\n",
              "      <td>3.06</td>\n",
              "      <td>0.28</td>\n",
              "      <td>2.29</td>\n",
              "      <td>5.64</td>\n",
              "      <td>1.04</td>\n",
              "      <td>3.92</td>\n",
              "      <td>1065</td>\n",
              "    </tr>\n",
              "    <tr>\n",
              "      <th>1</th>\n",
              "      <td>1</td>\n",
              "      <td>13.20</td>\n",
              "      <td>1.78</td>\n",
              "      <td>2.14</td>\n",
              "      <td>11.2</td>\n",
              "      <td>100</td>\n",
              "      <td>2.65</td>\n",
              "      <td>2.76</td>\n",
              "      <td>0.26</td>\n",
              "      <td>1.28</td>\n",
              "      <td>4.38</td>\n",
              "      <td>1.05</td>\n",
              "      <td>3.40</td>\n",
              "      <td>1050</td>\n",
              "    </tr>\n",
              "    <tr>\n",
              "      <th>2</th>\n",
              "      <td>1</td>\n",
              "      <td>13.16</td>\n",
              "      <td>2.36</td>\n",
              "      <td>2.67</td>\n",
              "      <td>18.6</td>\n",
              "      <td>101</td>\n",
              "      <td>2.80</td>\n",
              "      <td>3.24</td>\n",
              "      <td>0.30</td>\n",
              "      <td>2.81</td>\n",
              "      <td>5.68</td>\n",
              "      <td>1.03</td>\n",
              "      <td>3.17</td>\n",
              "      <td>1185</td>\n",
              "    </tr>\n",
              "    <tr>\n",
              "      <th>3</th>\n",
              "      <td>1</td>\n",
              "      <td>14.37</td>\n",
              "      <td>1.95</td>\n",
              "      <td>2.50</td>\n",
              "      <td>16.8</td>\n",
              "      <td>113</td>\n",
              "      <td>3.85</td>\n",
              "      <td>3.49</td>\n",
              "      <td>0.24</td>\n",
              "      <td>2.18</td>\n",
              "      <td>7.80</td>\n",
              "      <td>0.86</td>\n",
              "      <td>3.45</td>\n",
              "      <td>1480</td>\n",
              "    </tr>\n",
              "    <tr>\n",
              "      <th>4</th>\n",
              "      <td>1</td>\n",
              "      <td>13.24</td>\n",
              "      <td>2.59</td>\n",
              "      <td>2.87</td>\n",
              "      <td>21.0</td>\n",
              "      <td>118</td>\n",
              "      <td>2.80</td>\n",
              "      <td>2.69</td>\n",
              "      <td>0.39</td>\n",
              "      <td>1.82</td>\n",
              "      <td>4.32</td>\n",
              "      <td>1.04</td>\n",
              "      <td>2.93</td>\n",
              "      <td>735</td>\n",
              "    </tr>\n",
              "  </tbody>\n",
              "</table>\n",
              "</div>"
            ],
            "text/plain": [
              "   class label  alchohol  malic acid  ...   hue  OD208  proline\n",
              "0            1     14.23        1.71  ...  1.04   3.92     1065\n",
              "1            1     13.20        1.78  ...  1.05   3.40     1050\n",
              "2            1     13.16        2.36  ...  1.03   3.17     1185\n",
              "3            1     14.37        1.95  ...  0.86   3.45     1480\n",
              "4            1     13.24        2.59  ...  1.04   2.93      735\n",
              "\n",
              "[5 rows x 14 columns]"
            ]
          },
          "metadata": {
            "tags": []
          },
          "execution_count": 11
        }
      ]
    },
    {
      "cell_type": "code",
      "metadata": {
        "id": "nr0LTYdv22Tx"
      },
      "source": [
        "# 전체 data를 training set과 test set으로 split\n",
        "from sklearn.model_selection import train_test_split\n",
        "X, y = dat_wine.iloc[:,1:].values, dat_wine.iloc[:,0].values\n",
        "X_train, X_test, y_train, y_test = train_test_split(X, y, test_size=0.3, random_state=1, stratify=y)"
      ],
      "execution_count": 19,
      "outputs": []
    },
    {
      "cell_type": "code",
      "metadata": {
        "id": "xjVesI7w22vI"
      },
      "source": [
        "# 표준화\n",
        "from sklearn.preprocessing import StandardScaler\n",
        "std = StandardScaler()\n",
        "X_train_std = std.fit_transform(X_train)\n",
        "X_test_std = std.transform(X_test)"
      ],
      "execution_count": 22,
      "outputs": []
    },
    {
      "cell_type": "code",
      "metadata": {
        "id": "GpgwDldP225X"
      },
      "source": [
        "# Logistic Regression with L2 or L1 Regularization\n",
        "from sklearn.linear_model import LogisticRegression\n",
        "lr2_10 = LogisticRegression(penalty='l2', C=10.0, solver='saga')  # L2 with C(=1/λ)=10\n",
        "lr2_1 = LogisticRegression(penalty='l2', C=1.0, solver='saga')    # L2 with C(=1/λ)=1\n",
        "lr2_0_1 = LogisticRegression(penalty='l2', C=0.1, solver='saga')  # L2 with C(=1/λ)=0.1\n",
        "\n",
        "lr1_10 = LogisticRegression(penalty='l1', C=10.0, solver='saga')  # L1 with C(=1/λ)=10\n",
        "lr1_1 = LogisticRegression(penalty='l1', C=1.0, solver='saga')    # L1 with C(=1/λ)=1\n",
        "lr1_0_1 = LogisticRegression(penalty='l1', C=0.1, solver='saga')  # L1 with C(=1/λ)=0.1"
      ],
      "execution_count": 23,
      "outputs": []
    },
    {
      "cell_type": "code",
      "metadata": {
        "colab": {
          "base_uri": "https://localhost:8080/"
        },
        "id": "erSoHkSX229H",
        "outputId": "1b146c2e-e166-4d4f-cbc6-ec4446f4f47f"
      },
      "source": [
        "# 규제화 방법(L2 or L1)과 규제강도(λ)를 바꿔가며 accuracy score 계산\n",
        "lr2_10.fit(X_train_std, y_train)\n",
        "print('Training accuracy with L2 and λ=0.1:', lr2_10.score(X_train_std, y_train))\n",
        "print('Test accuracy with L2 and λ=0.1:', lr2_10.score(X_test_std, y_test))\n",
        "\n",
        "lr2_1.fit(X_train_std, y_train)  # warning..\n",
        "print('Training accuracy with L2 and λ=1:', lr2_1.score(X_train_std, y_train))\n",
        "print('Test accuracy with L2 and λ=1:', lr2_1.score(X_test_std, y_test))\n",
        "\n",
        "lr2_0_1.fit(X_train_std, y_train)\n",
        "print('Training accuracy with L2 and λ=10:', lr2_0_1.score(X_train_std, y_train))\n",
        "print('Test accuracy with L2 and λ=10:', lr2_0_1.score(X_test_std, y_test))\n",
        "\n",
        "lr1_10.fit(X_train_std, y_train)\n",
        "print('Training accuracy with L1 and λ=0.1:', lr1_10.score(X_train_std, y_train))\n",
        "print('Test accuracy with L1 and λ=0.1:', lr1_10.score(X_test_std, y_test))\n",
        "\n",
        "lr1_1.fit(X_train_std, y_train)\n",
        "print('Training accuracy with L1 and λ=1:', lr1_1.score(X_train_std, y_train))\n",
        "print('Test accuracy with L1 and λ=1:', lr1_1.score(X_test_std, y_test))\n",
        "\n",
        "lr1_0_1.fit(X_train_std, y_train)\n",
        "print('Training accuracy with L1 and λ=10:', lr1_0_1.score(X_train_std, y_train))\n",
        "print('Test accuracy with L1 and λ=10:', lr1_0_1.score(X_test_std, y_test))"
      ],
      "execution_count": 24,
      "outputs": [
        {
          "output_type": "stream",
          "text": [
            "Training accuracy with L2 and λ=0.1: 1.0\n",
            "Test accuracy with L2 and λ=0.1: 0.9814814814814815\n",
            "Training accuracy with L2 and λ=1: 1.0\n",
            "Test accuracy with L2 and λ=1: 0.9814814814814815\n",
            "Training accuracy with L2 and λ=10: 1.0\n",
            "Test accuracy with L2 and λ=10: 1.0\n",
            "Training accuracy with L1 and λ=0.1: 1.0\n",
            "Test accuracy with L1 and λ=0.1: 0.9814814814814815\n",
            "Training accuracy with L1 and λ=1: 1.0\n",
            "Test accuracy with L1 and λ=1: 1.0\n",
            "Training accuracy with L1 and λ=10: 0.967741935483871\n",
            "Test accuracy with L1 and λ=10: 0.9444444444444444\n"
          ],
          "name": "stdout"
        },
        {
          "output_type": "stream",
          "text": [
            "/usr/local/lib/python3.7/dist-packages/sklearn/linear_model/_sag.py:330: ConvergenceWarning: The max_iter was reached which means the coef_ did not converge\n",
            "  \"the coef_ did not converge\", ConvergenceWarning)\n",
            "/usr/local/lib/python3.7/dist-packages/sklearn/linear_model/_sag.py:330: ConvergenceWarning: The max_iter was reached which means the coef_ did not converge\n",
            "  \"the coef_ did not converge\", ConvergenceWarning)\n",
            "/usr/local/lib/python3.7/dist-packages/sklearn/linear_model/_sag.py:330: ConvergenceWarning: The max_iter was reached which means the coef_ did not converge\n",
            "  \"the coef_ did not converge\", ConvergenceWarning)\n",
            "/usr/local/lib/python3.7/dist-packages/sklearn/linear_model/_sag.py:330: ConvergenceWarning: The max_iter was reached which means the coef_ did not converge\n",
            "  \"the coef_ did not converge\", ConvergenceWarning)\n"
          ],
          "name": "stderr"
        }
      ]
    },
    {
      "cell_type": "code",
      "metadata": {
        "colab": {
          "base_uri": "https://localhost:8080/"
        },
        "id": "diqfs6_s23Ad",
        "outputId": "e4f355dd-d1e9-426e-b7ff-0a35ad1a86f4"
      },
      "source": [
        "# L2 규제의 규제강도(C=1/λ)를 바꿔가며 계수 추정치 관찰\n",
        "print(lr2_10.intercept_)\n",
        "print(lr2_1.intercept_)\n",
        "print(lr2_0_1.intercept_)\n",
        "\n",
        "print(lr2_10.coef_)\n",
        "print(lr2_1.coef_)\n",
        "print(lr2_0_1.coef_)"
      ],
      "execution_count": 25,
      "outputs": [
        {
          "output_type": "stream",
          "text": [
            "[ 0.33681126  0.60300002 -0.93981127]\n",
            "[ 0.28431433  0.60472514 -0.88903947]\n",
            "[ 0.06853617  0.45692561 -0.52546178]\n",
            "[[ 1.20574796  0.16828097  0.39230678 -1.51705874  0.08935668  0.40728865\n",
            "   0.84684321 -0.29153423  0.04238326  0.17269416  0.07455204  0.96724624\n",
            "   1.40717047]\n",
            " [-1.54567318 -0.44231894 -1.265256    1.2302992  -0.32055204 -0.54155557\n",
            "   0.85300708  0.40882064  0.41267369 -1.34200284  1.14533732  0.05143326\n",
            "  -1.76621881]\n",
            " [ 0.33992522  0.27403798  0.87294922  0.28675954  0.23119535  0.13426692\n",
            "  -1.69985028 -0.11728641 -0.45505694  1.16930869 -1.21988935 -1.0186795\n",
            "   0.35904834]]\n",
            "[[ 0.75465963  0.06147631  0.233128   -0.8924215   0.02634462  0.29446681\n",
            "   0.56062818 -0.20740136  0.13469387  0.12776906  0.10230581  0.61816212\n",
            "   0.90925521]\n",
            " [-0.98665478 -0.32315609 -0.6518379   0.66757644 -0.22940426 -0.20684259\n",
            "   0.43799551  0.19810766  0.24454236 -0.77969054  0.63752626  0.08603635\n",
            "  -1.03446864]\n",
            " [ 0.23199516  0.26167979  0.4187099   0.22484507  0.20305965 -0.08762423\n",
            "  -0.99862369  0.0092937  -0.37923623  0.65192148 -0.73983208 -0.70419847\n",
            "   0.12521344]]\n",
            "[[ 0.41027246 -0.03151167  0.13676384 -0.41133529  0.05382219  0.22359568\n",
            "   0.31670073 -0.15967479  0.11372372  0.07038529  0.11106581  0.30980685\n",
            "   0.51688511]\n",
            " [-0.54264746 -0.20157224 -0.25666623  0.28070778 -0.14836303 -0.04058926\n",
            "   0.12455073  0.08288749  0.10089251 -0.44571732  0.27319478  0.09647081\n",
            "  -0.5187048 ]\n",
            " [ 0.132375    0.23308391  0.11990238  0.1306275   0.09454084 -0.18300642\n",
            "  -0.44125147  0.0767873  -0.21461622  0.37533202 -0.38426059 -0.40627766\n",
            "   0.00181969]]\n"
          ],
          "name": "stdout"
        }
      ]
    },
    {
      "cell_type": "code",
      "metadata": {
        "colab": {
          "base_uri": "https://localhost:8080/"
        },
        "id": "IzBhXvlF23Da",
        "outputId": "e3681279-b309-43e9-fbb3-2c39ce10870c"
      },
      "source": [
        "# L1 규제의 규제강도(C=1/λ)를 바꿔가며 계수 추정치 관찰\n",
        "print(lr1_10.intercept_)\n",
        "print(lr1_1.intercept_)\n",
        "print(lr1_0_1.intercept_)\n",
        "\n",
        "print(lr1_10.coef_)\n",
        "print(lr1_1.coef_)\n",
        "print(lr1_0_1.coef_)"
      ],
      "execution_count": 26,
      "outputs": [
        {
          "output_type": "stream",
          "text": [
            "[ 0.32338113  0.59746247 -0.9208436 ]\n",
            "[ 0.29112533  0.53925988 -0.8303852 ]\n",
            "[ 0.05085392  0.30693666 -0.35779057]\n",
            "[[ 1.20082912  0.          0.20258386 -1.65573308  0.          0.23047386\n",
            "   0.74829279 -0.11400351  0.          0.          0.          0.95108667\n",
            "   1.40707851]\n",
            " [-1.81850289 -0.4249125  -1.48858674  1.07482054 -0.36863186 -0.39958049\n",
            "   0.66229502  0.46683768  0.23053365 -1.51632518  1.12529153  0.\n",
            "  -1.96952354]\n",
            " [ 0.09051697  0.12640126  0.77118272  0.05401098  0.0854582   0.\n",
            "  -1.93808492  0.         -0.38862449  1.21846095 -1.23826676 -0.98337274\n",
            "   0.03690476]]\n",
            "[[ 0.01282313  0.          0.         -1.17414285  0.          0.\n",
            "   0.0224406   0.          0.          0.          0.          0.62433047\n",
            "   0.99532758]\n",
            " [-1.58243    -0.14561634 -0.77008669  0.04358902 -0.06981152  0.\n",
            "   0.          0.14104554  0.         -1.0449058   0.22148177  0.\n",
            "  -1.19096365]\n",
            " [ 0.          0.          0.          0.          0.          0.\n",
            "  -2.11107072  0.         -0.01691192  0.23021086 -0.79105225 -0.66631963\n",
            "   0.        ]]\n",
            "[[ 0.          0.          0.         -0.04184428  0.          0.\n",
            "   0.23296606  0.          0.          0.          0.          0.\n",
            "   0.84037572]\n",
            " [-0.8348407   0.          0.          0.          0.          0.\n",
            "   0.          0.          0.         -0.42332227  0.          0.\n",
            "  -0.20657125]\n",
            " [ 0.          0.          0.          0.          0.          0.\n",
            "  -0.60163109  0.          0.          0.105063   -0.35205709 -0.52100903\n",
            "   0.        ]]\n"
          ],
          "name": "stdout"
        }
      ]
    },
    {
      "cell_type": "code",
      "metadata": {
        "id": "W0IRMhiA23Ga"
      },
      "source": [
        ""
      ],
      "execution_count": null,
      "outputs": []
    },
    {
      "cell_type": "code",
      "metadata": {
        "id": "-0ralUdu23JV"
      },
      "source": [
        ""
      ],
      "execution_count": null,
      "outputs": []
    },
    {
      "cell_type": "code",
      "metadata": {
        "id": "11eucmgD23Md"
      },
      "source": [
        ""
      ],
      "execution_count": null,
      "outputs": []
    }
  ]
}