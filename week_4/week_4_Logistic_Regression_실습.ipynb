{
  "nbformat": 4,
  "nbformat_minor": 0,
  "metadata": {
    "colab": {
      "name": "week_4_Logistic_Regression_실습.ipynb",
      "provenance": [],
      "collapsed_sections": [],
      "authorship_tag": "ABX9TyOuxxl31O4hbnp60uO487yf",
      "include_colab_link": true
    },
    "kernelspec": {
      "name": "python3",
      "display_name": "Python 3"
    },
    "language_info": {
      "name": "python"
    }
  },
  "cells": [
    {
      "cell_type": "markdown",
      "metadata": {
        "id": "view-in-github",
        "colab_type": "text"
      },
      "source": [
        "<a href=\"https://colab.research.google.com/github/hyeon9698/Donghyeon_Cho/blob/main/week_4/week_4_Logistic_Regression_%EC%8B%A4%EC%8A%B5.ipynb\" target=\"_parent\"><img src=\"https://colab.research.google.com/assets/colab-badge.svg\" alt=\"Open In Colab\"/></a>"
      ]
    },
    {
      "cell_type": "code",
      "metadata": {
        "id": "LLvZ1wDNVanF"
      },
      "source": [
        "# 데이터 불러오기\n",
        "import seaborn as sns # seaborn을 불러오고 SNS로 축약\n",
        "iris = sns.load_dataset('iris')  # iris라는 변수명으로 Iris data를 download\n",
        "\n",
        "X = iris.drop('species', axis=1) # 'species'열을 drop하고 input X를 정의\n",
        "y = iris['species']"
      ],
      "execution_count": null,
      "outputs": []
    }
  ]
}