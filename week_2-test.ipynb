{
  "nbformat": 4,
  "nbformat_minor": 0,
  "metadata": {
    "colab": {
      "name": "week_2.ipynb",
      "provenance": [],
      "collapsed_sections": []
    },
    "kernelspec": {
      "name": "python3",
      "display_name": "Python 3"
    }
  },
  "cells": [
    {
      "cell_type": "markdown",
      "metadata": {
        "id": "cAopYT8VtJXT"
      },
      "source": [
        "# week 2\r\n",
        "\r\n",
        "## 데이터 전처리\r\n",
        "\r\n",
        "### 데이터 전처리 정의\r\n",
        "\r\n",
        "- 데이터의 품질을 올리는 과정\r\n",
        "- 데이터의 품질은 데이터 분석의 90%를 좌우한다.\r\n",
        "\r\n",
        "### 데이터 전처리 과정\r\n",
        "\r\n",
        "- 데이터 실수화: 컴퓨터가 이해할 수 있는 값으로의 변환\r\n",
        "- 불완전한 데이터 제거: NULL, NA, NAN 값의 제거\r\n",
        "- 잡음 섞인 데이터 제거\r\n",
        "    - 가격 데이터에 있는 (-) 값 제거\r\n",
        "    - 연령 데이터중 과도하게 큰 값 제거 or 소수점 제거\r\n",
        "        - ex) 나이 값으로 200, 300 등의 값이 존재하는 경우\r\n",
        "- 모순된 데이터 제거: 남성 데이터 중 주민번호가 '2'로 시작하는 경우\r\n",
        "- 불균형 데이터 해결\r\n",
        "    - 과소표집(undersampling), 과대표집(oversampling)\r\n",
        "\r\n",
        "### 데이터 전처리의 주요 기법\r\n",
        "\r\n",
        "1. 데이터 실수화 (Data Vectorization)\r\n",
        "    - 범주형 자료, 텍스트 자료, 이미지 자료 등을 실수로 구성된 형태로 전환하는 것\r\n",
        "    - 2차원 자료의 예시\r\n",
        "        - [n_sample, n_features]\r\n",
        "        - 2차원 자료는 행렬 혹은 2차원 텐서라 불림\r\n",
        "    - 자료의 유형\r\n",
        "        - 연속형 자료\r\n",
        "        - 텍스트 자료\r\n",
        "        - 범주형 자료\r\n",
        "            - One-hot encoding을 이용한 데이터 실수화\r\n",
        "            "
      ]
    },
    {
      "cell_type": "code",
      "metadata": {
        "colab": {
          "base_uri": "https://localhost:8080/"
        },
        "id": "u-HnYfN07r9e",
        "outputId": "3435cf0a-c6c3-4c24-cc25-00f993ce884f"
      },
      "source": [
        "from sklearn.feature_extraction import DictVectorizer\r\n",
        "vec = DictVectorizer(sparse=False) # sparse=False 로 하면 데이터를 눈으로 볼 수 있음\r\n",
        "x=[{'city':'seoul','temp':10.0}, {'city':'Dubai', 'temp':33.5}, {'city':'LA','temp':20.0}]\r\n",
        "x"
      ],
      "execution_count": null,
      "outputs": [
        {
          "output_type": "execute_result",
          "data": {
            "text/plain": [
              "[{'city': 'seoul', 'temp': 10.0},\n",
              " {'city': 'Dubai', 'temp': 33.5},\n",
              " {'city': 'LA', 'temp': 20.0}]"
            ]
          },
          "metadata": {
            "tags": []
          },
          "execution_count": 3
        }
      ]
    },
    {
      "cell_type": "markdown",
      "metadata": {
        "id": "JUgAN3ZDA-uu"
      },
      "source": [
        "* 희소행렬(Sparse Matrix)\r\n",
        "    * 행렬의 값이 대부분 0인 경우를 가리키는 표현\r\n",
        "    * 희소 행렬은 프로그램 시 불필요한 0 값으로 인해 메모리 낭비가 심함\r\n",
        "    * 행렬의 크기가 커서 연산시 시간도 많이 소모됨\r\n",
        "    * COO 표현식과 CSR 표현식을 통해 문제 해결 가능"
      ]
    },
    {
      "cell_type": "code",
      "metadata": {
        "colab": {
          "base_uri": "https://localhost:8080/"
        },
        "id": "mq8fUAly7EuO",
        "outputId": "ef8d8641-d3a8-420b-da27-92eb52cd119d"
      },
      "source": [
        "vec.fit_transform(x) # x를 범주형 수량화 자료로 변환"
      ],
      "execution_count": null,
      "outputs": [
        {
          "output_type": "execute_result",
          "data": {
            "text/plain": [
              "array([[ 0. ,  0. ,  1. , 10. ],\n",
              "       [ 1. ,  0. ,  0. , 33.5],\n",
              "       [ 0. ,  1. ,  0. , 20. ]])"
            ]
          },
          "metadata": {
            "tags": []
          },
          "execution_count": 2
        }
      ]
    },
    {
      "cell_type": "code",
      "metadata": {
        "colab": {
          "base_uri": "https://localhost:8080/"
        },
        "id": "OpxJvHfBCZNP",
        "outputId": "69b15680-1e2c-4050-8567-0b349003b360"
      },
      "source": [
        "text=['떴다 떴다 비행기 날아라 날아라','높이 높이 날아라 우리 비행기','내가 만든 비행기 날아라 날아라','멀리 멀리 날아라 우리 비행기']\r\n",
        "text"
      ],
      "execution_count": null,
      "outputs": [
        {
          "output_type": "execute_result",
          "data": {
            "text/plain": [
              "['떴다 떴다 비행기 날아라 날아라',\n",
              " '높이 높이 날아라 우리 비행기',\n",
              " '내가 만든 비행기 날아라 날아라',\n",
              " '멀리 멀리 날아라 우리 비행기']"
            ]
          },
          "metadata": {
            "tags": []
          },
          "execution_count": 4
        }
      ]
    },
    {
      "cell_type": "code",
      "metadata": {
        "colab": {
          "base_uri": "https://localhost:8080/",
          "height": 173
        },
        "id": "y1WSLDOPC6zZ",
        "outputId": "1f770423-f43b-45ed-b8ed-5eaf36ed7fc1"
      },
      "source": [
        "from sklearn.feature_extraction.text import CountVectorizer\r\n",
        "vec2 = CountVectorizer() # default는 sparse=True\r\n",
        "t=vec2.fit_transform(text).toarray() # toarray() 한 이유는 sparse=True를 풀고 text를 수량화 배열 자료로 변환\r\n",
        "import pandas as pd\r\n",
        "t1=pd.DataFrame(t, columns=vec2.get_feature_names())\r\n",
        "t1"
      ],
      "execution_count": null,
      "outputs": [
        {
          "output_type": "execute_result",
          "data": {
            "text/html": [
              "<div>\n",
              "<style scoped>\n",
              "    .dataframe tbody tr th:only-of-type {\n",
              "        vertical-align: middle;\n",
              "    }\n",
              "\n",
              "    .dataframe tbody tr th {\n",
              "        vertical-align: top;\n",
              "    }\n",
              "\n",
              "    .dataframe thead th {\n",
              "        text-align: right;\n",
              "    }\n",
              "</style>\n",
              "<table border=\"1\" class=\"dataframe\">\n",
              "  <thead>\n",
              "    <tr style=\"text-align: right;\">\n",
              "      <th></th>\n",
              "      <th>날아라</th>\n",
              "      <th>내가</th>\n",
              "      <th>높이</th>\n",
              "      <th>떴다</th>\n",
              "      <th>만든</th>\n",
              "      <th>멀리</th>\n",
              "      <th>비행기</th>\n",
              "      <th>우리</th>\n",
              "    </tr>\n",
              "  </thead>\n",
              "  <tbody>\n",
              "    <tr>\n",
              "      <th>0</th>\n",
              "      <td>2</td>\n",
              "      <td>0</td>\n",
              "      <td>0</td>\n",
              "      <td>2</td>\n",
              "      <td>0</td>\n",
              "      <td>0</td>\n",
              "      <td>1</td>\n",
              "      <td>0</td>\n",
              "    </tr>\n",
              "    <tr>\n",
              "      <th>1</th>\n",
              "      <td>1</td>\n",
              "      <td>0</td>\n",
              "      <td>2</td>\n",
              "      <td>0</td>\n",
              "      <td>0</td>\n",
              "      <td>0</td>\n",
              "      <td>1</td>\n",
              "      <td>1</td>\n",
              "    </tr>\n",
              "    <tr>\n",
              "      <th>2</th>\n",
              "      <td>2</td>\n",
              "      <td>1</td>\n",
              "      <td>0</td>\n",
              "      <td>0</td>\n",
              "      <td>1</td>\n",
              "      <td>0</td>\n",
              "      <td>1</td>\n",
              "      <td>0</td>\n",
              "    </tr>\n",
              "    <tr>\n",
              "      <th>3</th>\n",
              "      <td>1</td>\n",
              "      <td>0</td>\n",
              "      <td>0</td>\n",
              "      <td>0</td>\n",
              "      <td>0</td>\n",
              "      <td>2</td>\n",
              "      <td>1</td>\n",
              "      <td>1</td>\n",
              "    </tr>\n",
              "  </tbody>\n",
              "</table>\n",
              "</div>"
            ],
            "text/plain": [
              "   날아라  내가  높이  떴다  만든  멀리  비행기  우리\n",
              "0    2   0   0   2   0   0    1   0\n",
              "1    1   0   2   0   0   0    1   1\n",
              "2    2   1   0   0   1   0    1   0\n",
              "3    1   0   0   0   0   2    1   1"
            ]
          },
          "metadata": {
            "tags": []
          },
          "execution_count": 7
        }
      ]
    },
    {
      "cell_type": "code",
      "metadata": {
        "colab": {
          "base_uri": "https://localhost:8080/",
          "height": 173
        },
        "id": "d_vYdtR3D9fz",
        "outputId": "e33b25bf-8d3e-4998-f7f7-527a65f9fb06"
      },
      "source": [
        "from sklearn.feature_extraction.text import TfidfVectorizer\r\n",
        "tfid=TfidfVectorizer()\r\n",
        "x2=tfid.fit_transform(text).toarray() # 높은 빈도는 낮은 가중치, 낮은 빈도는 높은 가중치\r\n",
        "x3=pd.DataFrame(x2,columns=tfid.get_feature_names())\r\n",
        "x3"
      ],
      "execution_count": null,
      "outputs": [
        {
          "output_type": "execute_result",
          "data": {
            "text/html": [
              "<div>\n",
              "<style scoped>\n",
              "    .dataframe tbody tr th:only-of-type {\n",
              "        vertical-align: middle;\n",
              "    }\n",
              "\n",
              "    .dataframe tbody tr th {\n",
              "        vertical-align: top;\n",
              "    }\n",
              "\n",
              "    .dataframe thead th {\n",
              "        text-align: right;\n",
              "    }\n",
              "</style>\n",
              "<table border=\"1\" class=\"dataframe\">\n",
              "  <thead>\n",
              "    <tr style=\"text-align: right;\">\n",
              "      <th></th>\n",
              "      <th>날아라</th>\n",
              "      <th>내가</th>\n",
              "      <th>높이</th>\n",
              "      <th>떴다</th>\n",
              "      <th>만든</th>\n",
              "      <th>멀리</th>\n",
              "      <th>비행기</th>\n",
              "      <th>우리</th>\n",
              "    </tr>\n",
              "  </thead>\n",
              "  <tbody>\n",
              "    <tr>\n",
              "      <th>0</th>\n",
              "      <td>0.450735</td>\n",
              "      <td>0.000000</td>\n",
              "      <td>0.00000</td>\n",
              "      <td>0.86374</td>\n",
              "      <td>0.000000</td>\n",
              "      <td>0.00000</td>\n",
              "      <td>0.225368</td>\n",
              "      <td>0.000000</td>\n",
              "    </tr>\n",
              "    <tr>\n",
              "      <th>1</th>\n",
              "      <td>0.229589</td>\n",
              "      <td>0.000000</td>\n",
              "      <td>0.87992</td>\n",
              "      <td>0.00000</td>\n",
              "      <td>0.000000</td>\n",
              "      <td>0.00000</td>\n",
              "      <td>0.229589</td>\n",
              "      <td>0.346869</td>\n",
              "    </tr>\n",
              "    <tr>\n",
              "      <th>2</th>\n",
              "      <td>0.569241</td>\n",
              "      <td>0.545415</td>\n",
              "      <td>0.00000</td>\n",
              "      <td>0.00000</td>\n",
              "      <td>0.545415</td>\n",
              "      <td>0.00000</td>\n",
              "      <td>0.284620</td>\n",
              "      <td>0.000000</td>\n",
              "    </tr>\n",
              "    <tr>\n",
              "      <th>3</th>\n",
              "      <td>0.229589</td>\n",
              "      <td>0.000000</td>\n",
              "      <td>0.00000</td>\n",
              "      <td>0.00000</td>\n",
              "      <td>0.000000</td>\n",
              "      <td>0.87992</td>\n",
              "      <td>0.229589</td>\n",
              "      <td>0.346869</td>\n",
              "    </tr>\n",
              "  </tbody>\n",
              "</table>\n",
              "</div>"
            ],
            "text/plain": [
              "        날아라        내가       높이       떴다        만든       멀리       비행기        우리\n",
              "0  0.450735  0.000000  0.00000  0.86374  0.000000  0.00000  0.225368  0.000000\n",
              "1  0.229589  0.000000  0.87992  0.00000  0.000000  0.00000  0.229589  0.346869\n",
              "2  0.569241  0.545415  0.00000  0.00000  0.545415  0.00000  0.284620  0.000000\n",
              "3  0.229589  0.000000  0.00000  0.00000  0.000000  0.87992  0.229589  0.346869"
            ]
          },
          "metadata": {
            "tags": []
          },
          "execution_count": 8
        }
      ]
    },
    {
      "cell_type": "markdown",
      "metadata": {
        "id": "39Wtss8Jvn0w"
      },
      "source": [
        "\r\n",
        "2. 데이터 정제 (Data Cleaning)\r\n",
        "    - 없는 데이터는 채우고, 잡음 데이터는 제거하고, 모순 데이터를 올바른 데이터로 교정하는 것\r\n",
        "    - 결측 데이터 채우기 (Empty Values)\r\n",
        "        - 결측 데이터: np.nan, npNaN, None\r\n",
        "        - 평균(mean), 중위수(median), 최빈수(most frequent value)로 대처하는 기법 사용\r\n",
        "        - 사용가능함수\r\n",
        "            - sklearn의 Imputer(): 입력인자로 평균, 중위수, 최빈수 선택\r\n"
      ]
    },
    {
      "cell_type": "code",
      "metadata": {
        "colab": {
          "base_uri": "https://localhost:8080/"
        },
        "id": "Ekmo6La1JAPo",
        "outputId": "121258fc-3455-4091-f18e-80ae0bc18dc2"
      },
      "source": [
        "import numpy as np\r\n",
        "x_miss = np.array([[1,2,3,None],[5,np.NAN,7,8],[None,10,11,12],[13,np.nan,15,16]])\r\n",
        "x_miss"
      ],
      "execution_count": null,
      "outputs": [
        {
          "output_type": "execute_result",
          "data": {
            "text/plain": [
              "array([[1, 2, 3, None],\n",
              "       [5, nan, 7, 8],\n",
              "       [None, 10, 11, 12],\n",
              "       [13, nan, 15, 16]], dtype=object)"
            ]
          },
          "metadata": {
            "tags": []
          },
          "execution_count": 22
        }
      ]
    },
    {
      "cell_type": "code",
      "metadata": {
        "colab": {
          "base_uri": "https://localhost:8080/"
        },
        "id": "VyYgA4vgINxi",
        "outputId": "10da5d60-d8b9-400c-ab15-87b4bc9f046f"
      },
      "source": [
        "from sklearn.impute import SimpleImputer\r\n",
        "im = SimpleImputer(strategy='mean') # 평균 값으로 대처\r\n",
        "im.fit(x_miss)"
      ],
      "execution_count": null,
      "outputs": [
        {
          "output_type": "execute_result",
          "data": {
            "text/plain": [
              "SimpleImputer(add_indicator=False, copy=True, fill_value=None,\n",
              "              missing_values=nan, strategy='mean', verbose=0)"
            ]
          },
          "metadata": {
            "tags": []
          },
          "execution_count": 24
        }
      ]
    },
    {
      "cell_type": "markdown",
      "metadata": {
        "id": "Ritc5FGHILU9"
      },
      "source": [
        "\r\n",
        "3. 데이터 통합 (Data Integration)\r\n",
        "    - 여러 개의 데이터 파일을 하나로 합치는 과정\r\n",
        "    - pandas의 merge() 함수 사용   "
      ]
    },
    {
      "cell_type": "code",
      "metadata": {
        "id": "LfvsXNIPKeFM"
      },
      "source": [
        "#www.kaggle.com 으로 들어간 후 새로운 account를 생성하고\r\n",
        "#www.kaggle.com/c/rossmann-store-sales/data 에서 자료를 다운받는다.\r\n",
        "#zip을 풀어서 적절한 폴더(이경우 머신러닝교재)\r\n",
        "import pandas as pd\r\n",
        "df1=pd.read_csv(\\\"train.csv\\\",engine='python')\r\n",
        "print(df1.shape)\r\n",
        "type(df1)"
      ],
      "execution_count": null,
      "outputs": []
    },
    {
      "cell_type": "code",
      "metadata": {
        "id": "Qdq0qeGpLfgA"
      },
      "source": [
        "df1.head()"
      ],
      "execution_count": null,
      "outputs": []
    },
    {
      "cell_type": "code",
      "metadata": {
        "id": "oNO_3qduLjh1"
      },
      "source": [
        "df2=pd.read_csv(\\\"store.csv\\\",engine='python')\r\n",
        "df2.shape"
      ],
      "execution_count": null,
      "outputs": []
    },
    {
      "cell_type": "code",
      "metadata": {
        "id": "nsWocwWCLqfQ"
      },
      "source": [
        "df=pd.merge(df1,df2,on='Store')\r\n",
        "df.shape"
      ],
      "execution_count": null,
      "outputs": []
    },
    {
      "cell_type": "markdown",
      "metadata": {
        "id": "W5F-PrrXKdZE"
      },
      "source": [
        "\r\n",
        "4. 데이터 축소 (Data Reduction)\r\n",
        "    - 데이터가 과도하게 큰 경우, 분석 및 학습에 시간이 오래 걸리고 비효율적이기 떄문에 데이터의 수를 줄이거나 (sampling), 데이터 차원을 축소하는 작업\r\n",
        "5. 데이터 변환 (Data Transformation)\r\n",
        "    - 데이터를 정규화 하거나, 로그를 씌우거나, 평균값을 계산하여 사용하거나, 사람 나이 등을 10대, 20대, 30대 등으로 구간 화 하는 작업\r\n",
        "    - 머신러닝 알고리즘은 데이터가 가진 특성(Feature)들을 비교하여 데이터 패턴을 찾음\r\n",
        "    - 데이터가 가진 특성 간 스케일 차이가 심하면 패턴을 찾는데 문제가 발생함\r\n",
        "    ![image](https://user-images.githubusercontent.com/41141851/111131702-dabb0400-85bb-11eb-9e58-491fb4fe87b1.png)\r\n",
        "    - 정규화가 표준화보다 유용함. 단, 데이터 특성이 bell-shape 이거나 이상치가 있을 경우에는 표준화가 유용함\r\n",
        "6. 데이터 균형 & 불균형 (Data Balancing)\r\n",
        "    - 특정 클래스의 관측치가 다른 클래스에 비해 매우 낮을 경우 샘플링을 통해 비율을 맞추는 작업\r\n",
        "    - 머신러닝의 목적이 분류 일 떄, 특정 클래스의 관측치가 다른 클래스에 비해 매우 낮게 나타나면 이러한 자료를 불균형자료라고 함\r\n",
        "    ![image](https://user-images.githubusercontent.com/41141851/111131548-b3643700-85bb-11eb-9ff7-89b08ec87b61.png)\r\n",
        "    - 데이터 불균형 해소 기법\r\n",
        "        - 과소표집(undersampling), 과대표집(oversampling)\r\n",
        "        - 일반적으로 과소표집보다 과대표집이 통계적으로 유용함\r\n",
        "        - 의사결정나무(decision tree)와 앙상블(ensemble)은 상대적으로 불균형자료에 강인한 특성을 보임"
      ]
    },
    {
      "cell_type": "code",
      "metadata": {
        "id": "q4Ae6mJ5tKNJ"
      },
      "source": [
        ""
      ],
      "execution_count": null,
      "outputs": []
    }
  ]
}