{
  "nbformat": 4,
  "nbformat_minor": 0,
  "metadata": {
    "colab": {
      "name": "05장_판별분석.ipynb",
      "provenance": [],
      "collapsed_sections": [],
      "authorship_tag": "ABX9TyOq2lF91lJO73XgBvyxmJRQ",
      "include_colab_link": true
    },
    "kernelspec": {
      "name": "python3",
      "display_name": "Python 3"
    },
    "language_info": {
      "name": "python"
    }
  },
  "cells": [
    {
      "cell_type": "markdown",
      "metadata": {
        "id": "view-in-github",
        "colab_type": "text"
      },
      "source": [
        "<a href=\"https://colab.research.google.com/github/hyeon9698/Donghyeon_Cho/blob/main/week_5/05%EC%9E%A5_%ED%8C%90%EB%B3%84%EB%B6%84%EC%84%9D.ipynb\" target=\"_parent\"><img src=\"https://colab.research.google.com/assets/colab-badge.svg\" alt=\"Open In Colab\"/></a>"
      ]
    },
    {
      "cell_type": "markdown",
      "metadata": {
        "id": "SqgD2EM4Z_tF"
      },
      "source": [
        "# 판별 분석(Discriminant Analysis)\n",
        "## 판별 분석의 정의\n",
        "- 두 개 이상의 **모 집단**에서 추출된 **표본**들이 지니고 있는 **정보**를 이용하여 이 표본들이 어느 모집단에서 추출된 것인지를 결정해 줄 수 있는 **기준을 찾는 분석법**\n",
        "\n",
        "## 판별 분석의 기초 개념\n",
        "### 판별 변수(Discriminat variable)\n",
        "- 판별 변수는 어떤 집단에 속하는지 판별하기 위해 변수로서 **독립 변수** 중 판별력이 높은 변수를 뜻함. 판별 변수를 선택하는데 판별 기여도 외에 고려해야 할 사향은 다른 독립 변수들 과의 상관관계이며, 상관관계가 높은 두 독립변수를 선택하는 것보다는 두 독립변수 중 하나를 판별 변수로 선택하고 그것과 **상관관계가 적은 독립변수를 선택**함으로써 효과적인 판별 함수를 만들 수 있음.\n",
        "\n",
        "### 판별 함수(Discriminat function)\n",
        "- 판별 분석이 이용되기 위해서는 각 개체는 여러 집단 중에서 어느 집단에 속해 있는지 알려져 있어야 하며(supervised learning) 소속 집단이 이미 알려진 경우에 대하여 변수들(X)을 측정하고 이들 변수들을 이용하여 각 집단을 가장 잘 구분해 낼 수 있는 판별식을 만들어 분별하는 과정을 포함하게 됨. 즉, **판별 함수를 이용하여 각 개체들이 소속 집단에 얼마나 잘 판별되는가에 대한 판별력을 측정하고 새로운 대상을 어느 집단으로 분류할 것이냐를 예측하는데 주요 목적이 있음**\n",
        "\n",
        "### 판별 점수(Discriminat score)\n",
        "- 판별 점수는 어떤 대상이 어떤 집단에 속하는지 판별하기 위하여 그 대상의 판별 변수들의 값을 판별 함수에 대입하여 구한 값을 뜻함\n",
        "\n",
        "### 표본의 크기\n",
        "- 전체 표본의 크기는 통상적으로 독립변수의 개수보다 3배(최소 2배) 이상 되어야 함\n",
        "- 종속 변수의 집단 각각의 표본의 크기 중 최소 크기가 독립변수의 개수보다 커야 함(판별력을 좌우하는 것이 전체 표본의 수가 아니라 가장 적은 집단의 표본 수이기 때문임)\n",
        "\n",
        "## 판별 분석의 단계(설계)\n",
        "1. 케이스가 속한 집단을 구분하는데 기여할 수 있는 **독립 변수** 찾기\n",
        "2. 집단을 구분하는 기준이 되는 독립 변수들의 선형 결합 즉, **판별 함수 도출** 하기\n",
        "3. 도출된 판별 함수에 의해 (학습 데이터) **분류의 정확도**를 분석하기\n",
        "4. 판별 함수를 이용하여 새로운 케이스 (테스트 데이터)가 속하는 **클래스 예측**하기\n",
        "\n",
        "## 선형 판별 분석 배경(LDA)\n",
        "- 가정(Assumptions)\n",
        "    - 각 클래스 집단은 **정규분포(normal distribution)형태의 확률 분포를 가짐**\n",
        "    - 각 클래스 집단은 **비슷한 형태의 공분산(covariance)** 구조를 가짐\n",
        "        - 공분산: 2개의 확률변수의 상관 정도를 나타내는 값.\n",
        "- LDA는 **판별**과 **차원 축소**의 기능\n",
        "    - 2차원(두 가지 독립변수)의 두 가지 범주를 갖는 데이터를 분류하는 문제에서 LDA는 먼저 하나의 차원(1d)에 projection을 하여 차원을 축소시킴\n",
        "        - LDA는 차원 축소의 개념을 포함함\n",
        "        - 2차원 자료들을 판별 축에 정사영 시킨 분포의 형태를 고려\n",
        "    "
      ]
    }
  ]
}