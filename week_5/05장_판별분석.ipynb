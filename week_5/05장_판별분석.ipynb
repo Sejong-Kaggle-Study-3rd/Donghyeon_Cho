{
  "nbformat": 4,
  "nbformat_minor": 0,
  "metadata": {
    "colab": {
      "name": "05장_판별분석.ipynb",
      "provenance": [],
      "authorship_tag": "ABX9TyOBXrpOMDozAs7cO3e2jaq+",
      "include_colab_link": true
    },
    "kernelspec": {
      "name": "python3",
      "display_name": "Python 3"
    },
    "language_info": {
      "name": "python"
    }
  },
  "cells": [
    {
      "cell_type": "markdown",
      "metadata": {
        "id": "view-in-github",
        "colab_type": "text"
      },
      "source": [
        "<a href=\"https://colab.research.google.com/github/hyeon9698/Donghyeon_Cho/blob/main/week_5/05%EC%9E%A5_%ED%8C%90%EB%B3%84%EB%B6%84%EC%84%9D.ipynb\" target=\"_parent\"><img src=\"https://colab.research.google.com/assets/colab-badge.svg\" alt=\"Open In Colab\"/></a>"
      ]
    },
    {
      "cell_type": "markdown",
      "metadata": {
        "id": "SqgD2EM4Z_tF"
      },
      "source": [
        "# 판별분석\n",
        "- LDA\n",
        "- Bayesian\n"
      ]
    }
  ]
}