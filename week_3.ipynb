{
  "nbformat": 4,
  "nbformat_minor": 0,
  "metadata": {
    "colab": {
      "name": "week_3.ipynb",
      "provenance": [],
      "collapsed_sections": [],
      "authorship_tag": "ABX9TyMyrwebFwxkjfoI8aIovhlV",
      "include_colab_link": true
    },
    "kernelspec": {
      "name": "python3",
      "display_name": "Python 3"
    },
    "language_info": {
      "name": "python"
    }
  },
  "cells": [
    {
      "cell_type": "markdown",
      "metadata": {
        "id": "view-in-github",
        "colab_type": "text"
      },
      "source": [
        "<a href=\"https://colab.research.google.com/github/hyeon9698/Donghyeon_Cho/blob/main/week_3.ipynb\" target=\"_parent\"><img src=\"https://colab.research.google.com/assets/colab-badge.svg\" alt=\"Open In Colab\"/></a>"
      ]
    },
    {
      "cell_type": "markdown",
      "metadata": {
        "id": "P8zrbPikx9Bi"
      },
      "source": [
        "# week 3\n",
        "KNN\n",
        "### 분류와 회귀\n",
        "- 분류\n",
        "    - 분류는 미리 정의된, 가능성 있는 여러 클래스 레이블 중 하나를 예측하는 것\n",
        "    - 두 개로만 나누는 이진 분류(binary classification)와 셋 이상의 클래스로 분류하는 다중 분류(multiclass classification)으로 나뉨\n",
        "    - 분류 예시: 얼굴 인식, 숫자 판별 (MNIST) 등\n",
        "- 회귀\n",
        "    - 연속적인 숫자 또는 부동소수점수 (실수)를 예측하는 것\n",
        "    - 회귀 예시: 주식 가격을 예측하여 수익을 내는 알고리즘 등\n"
      ]
    },
    {
      "cell_type": "markdown",
      "metadata": {
        "id": "D1r5l1QUx_31"
      },
      "source": [
        ""
      ]
    }
  ]
}